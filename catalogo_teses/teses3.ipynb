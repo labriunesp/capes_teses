{
 "cells": [
  {
   "cell_type": "code",
   "execution_count": 1,
   "metadata": {},
   "outputs": [],
   "source": [
    "import numpy as np\n",
    "import pandas as pd \n",
    "import dask.dataframe as dd\n",
    "import os\n",
    "import itertools\n",
    "import matplotlib.pyplot as plt\n",
    "import plotly.express as px"
   ]
  },
  {
   "cell_type": "code",
   "execution_count": 2,
   "metadata": {},
   "outputs": [],
   "source": [
    "diretorio = \"/media/hdvm03/bd/007/002/007/002\""
   ]
  },
  {
   "cell_type": "code",
   "execution_count": 6,
   "metadata": {},
   "outputs": [
    {
     "name": "stderr",
     "output_type": "stream",
     "text": [
      "/tmp/ipykernel_471415/3462598111.py:1: DtypeWarning: Columns (24,27,28,29,30,31,32,33,34,35,36,37,38,39,40) have mixed types. Specify dtype option on import or set low_memory=False.\n",
      "  teses = pd.read_csv(f'{diretorio}/geral/datadefesa.csv')\n"
     ]
    },
    {
     "data": {
      "text/plain": [
       "array(['01/09/1987', '01/06/1987', '01/05/1987', ..., '07/nov/12',\n",
       "       '05/mar/12', '08OCT2012'], dtype=object)"
      ]
     },
     "execution_count": 6,
     "metadata": {},
     "output_type": "execute_result"
    }
   ],
   "source": [
    "teses = pd.read_csv(f'{diretorio}/geral/datadefesa.csv')\n",
    "teses[\"DataDefesa\"].unique()\n",
    "\n",
    "\n"
   ]
  }
 ],
 "metadata": {
  "interpreter": {
   "hash": "f65464ce93b3320d85f91af7dfdd89cceefc99e5035c2e016e9b43196b2c54f5"
  },
  "kernelspec": {
   "display_name": "Python 3.10.2 ('env_capes_teses': conda)",
   "language": "python",
   "name": "python3"
  },
  "language_info": {
   "codemirror_mode": {
    "name": "ipython",
    "version": 3
   },
   "file_extension": ".py",
   "mimetype": "text/x-python",
   "name": "python",
   "nbconvert_exporter": "python",
   "pygments_lexer": "ipython3",
   "version": "3.10.2"
  },
  "orig_nbformat": 4
 },
 "nbformat": 4,
 "nbformat_minor": 2
}
